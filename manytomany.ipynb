{
 "cells": [
  {
   "cell_type": "code",
   "execution_count": null,
   "metadata": {
    "collapsed": false
   },
   "outputs": [
    {
     "name": "stdout",
     "output_type": "stream",
     "text": [
      "2019-12-09 13:26:14,010 INFO sqlalchemy.engine.base.Engine SELECT CAST('test plain returns' AS VARCHAR(60)) AS anon_1\n"
     ]
    },
    {
     "name": "stdout",
     "output_type": "stream",
     "text": [
      "2019-12-09 13:26:14,010 INFO sqlalchemy.engine.base.Engine ()\n"
     ]
    },
    {
     "name": "stdout",
     "output_type": "stream",
     "text": [
      "2019-12-09 13:26:14,020 INFO sqlalchemy.engine.base.Engine SELECT CAST('test unicode returns' AS VARCHAR(60)) AS anon_1\n"
     ]
    },
    {
     "name": "stdout",
     "output_type": "stream",
     "text": [
      "2019-12-09 13:26:14,020 INFO sqlalchemy.engine.base.Engine ()\n"
     ]
    },
    {
     "name": "stdout",
     "output_type": "stream",
     "text": [
      "2019-12-09 13:26:14,020 INFO sqlalchemy.engine.base.Engine PRAGMA main.table_info(\"registrations\")\n"
     ]
    },
    {
     "name": "stdout",
     "output_type": "stream",
     "text": [
      "2019-12-09 13:26:14,020 INFO sqlalchemy.engine.base.Engine ()\n"
     ]
    },
    {
     "name": "stdout",
     "output_type": "stream",
     "text": [
      "2019-12-09 13:26:14,031 INFO sqlalchemy.engine.base.Engine PRAGMA main.table_info(\"classes\")\n"
     ]
    },
    {
     "name": "stdout",
     "output_type": "stream",
     "text": [
      "2019-12-09 13:26:14,031 INFO sqlalchemy.engine.base.Engine ()\n"
     ]
    },
    {
     "name": "stdout",
     "output_type": "stream",
     "text": [
      "2019-12-09 13:26:14,039 INFO sqlalchemy.engine.base.Engine PRAGMA main.table_info(\"students\")\n"
     ]
    },
    {
     "name": "stdout",
     "output_type": "stream",
     "text": [
      "2019-12-09 13:26:14,039 INFO sqlalchemy.engine.base.Engine ()\n"
     ]
    },
    {
     "name": "stdout",
     "output_type": "stream",
     "text": [
      "2019-12-09 13:26:14,047 INFO sqlalchemy.engine.base.Engine \nDROP TABLE registrations\n"
     ]
    },
    {
     "name": "stdout",
     "output_type": "stream",
     "text": [
      "2019-12-09 13:26:14,047 INFO sqlalchemy.engine.base.Engine ()\n"
     ]
    },
    {
     "name": "stdout",
     "output_type": "stream",
     "text": [
      "2019-12-09 13:26:14,449 INFO sqlalchemy.engine.base.Engine COMMIT\n"
     ]
    },
    {
     "name": "stdout",
     "output_type": "stream",
     "text": [
      "2019-12-09 13:26:14,469 INFO sqlalchemy.engine.base.Engine \nDROP TABLE students\n"
     ]
    },
    {
     "name": "stdout",
     "output_type": "stream",
     "text": [
      "2019-12-09 13:26:14,469 INFO sqlalchemy.engine.base.Engine ()\n"
     ]
    },
    {
     "name": "stdout",
     "output_type": "stream",
     "text": [
      "2019-12-09 13:26:14,629 INFO sqlalchemy.engine.base.Engine COMMIT\n"
     ]
    },
    {
     "name": "stdout",
     "output_type": "stream",
     "text": [
      "2019-12-09 13:26:14,629 INFO sqlalchemy.engine.base.Engine \nDROP TABLE classes\n"
     ]
    },
    {
     "name": "stdout",
     "output_type": "stream",
     "text": [
      "2019-12-09 13:26:14,629 INFO sqlalchemy.engine.base.Engine ()\n"
     ]
    },
    {
     "name": "stdout",
     "output_type": "stream",
     "text": [
      "2019-12-09 13:26:14,769 INFO sqlalchemy.engine.base.Engine COMMIT\n"
     ]
    },
    {
     "name": "stdout",
     "output_type": "stream",
     "text": [
      "2019-12-09 13:26:14,779 INFO sqlalchemy.engine.base.Engine PRAGMA main.table_info(\"registrations\")\n"
     ]
    },
    {
     "name": "stdout",
     "output_type": "stream",
     "text": [
      "2019-12-09 13:26:14,779 INFO sqlalchemy.engine.base.Engine ()\n"
     ]
    },
    {
     "name": "stdout",
     "output_type": "stream",
     "text": [
      "2019-12-09 13:26:14,779 INFO sqlalchemy.engine.base.Engine PRAGMA temp.table_info(\"registrations\")\n"
     ]
    },
    {
     "name": "stdout",
     "output_type": "stream",
     "text": [
      "2019-12-09 13:26:14,779 INFO sqlalchemy.engine.base.Engine ()\n"
     ]
    },
    {
     "name": "stdout",
     "output_type": "stream",
     "text": [
      "2019-12-09 13:26:14,789 INFO sqlalchemy.engine.base.Engine PRAGMA main.table_info(\"classes\")\n"
     ]
    },
    {
     "name": "stdout",
     "output_type": "stream",
     "text": [
      "2019-12-09 13:26:14,789 INFO sqlalchemy.engine.base.Engine ()\n"
     ]
    },
    {
     "name": "stdout",
     "output_type": "stream",
     "text": [
      "2019-12-09 13:26:14,789 INFO sqlalchemy.engine.base.Engine PRAGMA temp.table_info(\"classes\")\n"
     ]
    },
    {
     "name": "stdout",
     "output_type": "stream",
     "text": [
      "2019-12-09 13:26:14,789 INFO sqlalchemy.engine.base.Engine ()\n"
     ]
    },
    {
     "name": "stdout",
     "output_type": "stream",
     "text": [
      "2019-12-09 13:26:14,789 INFO sqlalchemy.engine.base.Engine PRAGMA main.table_info(\"students\")\n"
     ]
    },
    {
     "name": "stdout",
     "output_type": "stream",
     "text": [
      "2019-12-09 13:26:14,789 INFO sqlalchemy.engine.base.Engine ()\n"
     ]
    },
    {
     "name": "stdout",
     "output_type": "stream",
     "text": [
      "2019-12-09 13:26:14,799 INFO sqlalchemy.engine.base.Engine PRAGMA temp.table_info(\"students\")\n"
     ]
    },
    {
     "name": "stdout",
     "output_type": "stream",
     "text": [
      "2019-12-09 13:26:14,799 INFO sqlalchemy.engine.base.Engine ()\n"
     ]
    },
    {
     "name": "stdout",
     "output_type": "stream",
     "text": [
      "2019-12-09 13:26:14,799 INFO sqlalchemy.engine.base.Engine \nCREATE TABLE classes (\n\tid INTEGER NOT NULL, \n\tname VARCHAR, \n\tPRIMARY KEY (id)\n)\n\n\n"
     ]
    },
    {
     "name": "stdout",
     "output_type": "stream",
     "text": [
      "2019-12-09 13:26:14,799 INFO sqlalchemy.engine.base.Engine ()\n"
     ]
    },
    {
     "name": "stdout",
     "output_type": "stream",
     "text": [
      "2019-12-09 13:26:14,939 INFO sqlalchemy.engine.base.Engine COMMIT\n"
     ]
    },
    {
     "name": "stdout",
     "output_type": "stream",
     "text": [
      "2019-12-09 13:26:14,939 INFO sqlalchemy.engine.base.Engine \nCREATE TABLE students (\n\tid INTEGER NOT NULL, \n\tname VARCHAR, \n\tPRIMARY KEY (id)\n)\n\n\n"
     ]
    },
    {
     "name": "stdout",
     "output_type": "stream",
     "text": [
      "2019-12-09 13:26:14,939 INFO sqlalchemy.engine.base.Engine ()\n"
     ]
    },
    {
     "name": "stdout",
     "output_type": "stream",
     "text": [
      "2019-12-09 13:26:15,051 INFO sqlalchemy.engine.base.Engine COMMIT\n"
     ]
    },
    {
     "name": "stdout",
     "output_type": "stream",
     "text": [
      "2019-12-09 13:26:15,051 INFO sqlalchemy.engine.base.Engine \nCREATE TABLE registrations (\n\tstudent_id INTEGER, \n\tclasses_id INTEGER, \n\tFOREIGN KEY(student_id) REFERENCES students (id), \n\tFOREIGN KEY(classes_id) REFERENCES classes (id)\n)\n\n\n"
     ]
    },
    {
     "name": "stdout",
     "output_type": "stream",
     "text": [
      "2019-12-09 13:26:15,061 INFO sqlalchemy.engine.base.Engine ()\n"
     ]
    },
    {
     "name": "stdout",
     "output_type": "stream",
     "text": [
      "2019-12-09 13:26:15,181 INFO sqlalchemy.engine.base.Engine COMMIT\n"
     ]
    }
   ],
   "source": [
    "from sqlalchemy import Integer, String, create_engine, \\\n",
    "    Column, Table, ForeignKey\n",
    "from sqlalchemy.orm import sessionmaker, relationship, backref\n",
    "from sqlalchemy.ext.declarative import declarative_base\n",
    "\n",
    "engine = create_engine('sqlite:///demo.sqlite', echo=True)\n",
    "Base = declarative_base(engine)\n",
    "session = sessionmaker(bind=engine)()\n",
    "\n",
    "registrations = Table(\n",
    "    'registrations', \n",
    "    Base.metadata,\n",
    "    Column('student_id', Integer, ForeignKey('students.id')),\n",
    "    Column('classes_id', Integer, ForeignKey('classes.id'))\n",
    ")\n",
    "\n",
    "\n",
    "class Class(Base):\n",
    "    __tablename__ = \"classes\"\n",
    "    id = Column(Integer, primary_key=True)\n",
    "    name = Column(String)\n",
    "    \n",
    "\n",
    "class Student(Base):\n",
    "    __tablename__ = \"students\"\n",
    "    id = Column(Integer, primary_key=True)\n",
    "    name = Column(String)\n",
    "    classes = relationship(\n",
    "        Class, secondary=registrations,\n",
    "        backref=backref('students', lazy='dynamic'),\n",
    "        lazy='dynamic')\n",
    "\n",
    "\n",
    "Base.metadata.drop_all()    \n",
    "Base.metadata.create_all()"
   ]
  },
  {
   "cell_type": "code",
   "execution_count": 3,
   "metadata": {
    "collapsed": false
   },
   "outputs": [
    {
     "name": "stdout",
     "output_type": "stream",
     "text": [
      "2019-12-09 13:26:29,290 INFO sqlalchemy.engine.base.Engine BEGIN (implicit)\n"
     ]
    },
    {
     "name": "stdout",
     "output_type": "stream",
     "text": [
      "2019-12-09 13:26:29,290 INFO sqlalchemy.engine.base.Engine INSERT INTO classes (name) VALUES (?)\n"
     ]
    },
    {
     "name": "stdout",
     "output_type": "stream",
     "text": [
      "2019-12-09 13:26:29,290 INFO sqlalchemy.engine.base.Engine ('English',)\n"
     ]
    },
    {
     "name": "stdout",
     "output_type": "stream",
     "text": [
      "2019-12-09 13:26:29,300 INFO sqlalchemy.engine.base.Engine INSERT INTO classes (name) VALUES (?)\n"
     ]
    },
    {
     "name": "stdout",
     "output_type": "stream",
     "text": [
      "2019-12-09 13:26:29,300 INFO sqlalchemy.engine.base.Engine ('Chinese',)\n"
     ]
    },
    {
     "name": "stdout",
     "output_type": "stream",
     "text": [
      "2019-12-09 13:26:29,300 INFO sqlalchemy.engine.base.Engine INSERT INTO students (name) VALUES (?)\n"
     ]
    },
    {
     "name": "stdout",
     "output_type": "stream",
     "text": [
      "2019-12-09 13:26:29,310 INFO sqlalchemy.engine.base.Engine ('Alex',)\n"
     ]
    },
    {
     "name": "stdout",
     "output_type": "stream",
     "text": [
      "2019-12-09 13:26:29,310 INFO sqlalchemy.engine.base.Engine INSERT INTO students (name) VALUES (?)\n"
     ]
    },
    {
     "name": "stdout",
     "output_type": "stream",
     "text": [
      "2019-12-09 13:26:29,310 INFO sqlalchemy.engine.base.Engine ('Bob',)\n"
     ]
    },
    {
     "name": "stdout",
     "output_type": "stream",
     "text": [
      "2019-12-09 13:26:29,310 INFO sqlalchemy.engine.base.Engine INSERT INTO registrations (student_id, classes_id) VALUES (?, ?)\n"
     ]
    },
    {
     "name": "stdout",
     "output_type": "stream",
     "text": [
      "2019-12-09 13:26:29,310 INFO sqlalchemy.engine.base.Engine ((1, 1), (1, 2), (2, 2))\n"
     ]
    },
    {
     "name": "stdout",
     "output_type": "stream",
     "text": [
      "2019-12-09 13:26:29,320 INFO sqlalchemy.engine.base.Engine COMMIT\n"
     ]
    }
   ],
   "source": [
    "class1 = Class(name='English')\n",
    "class2 = Class(name='Chinese')\n",
    "stu1 = Student(name='Alex')\n",
    "stu2 = Student(name='Bob')\n",
    "\n",
    "stu1.classes.append(class1)\n",
    "stu1.classes.append(class2)\n",
    "stu2.classes.append(class2)\n",
    "\n",
    "session.add(stu1)\n",
    "session.add(stu2)\n",
    "session.add(class1)\n",
    "session.add(class2)\n",
    "\n",
    "session.commit()"
   ]
  },
  {
   "cell_type": "code",
   "execution_count": 4,
   "metadata": {
    "collapsed": false
   },
   "outputs": [
    {
     "name": "stdout",
     "output_type": "stream",
     "text": [
      "2019-12-09 13:26:31,624 INFO sqlalchemy.engine.base.Engine BEGIN (implicit)\n"
     ]
    },
    {
     "name": "stdout",
     "output_type": "stream",
     "text": [
      "2019-12-09 13:26:31,628 INFO sqlalchemy.engine.base.Engine SELECT students.id AS students_id, students.name AS students_name \nFROM students \nWHERE students.id = ?\n"
     ]
    },
    {
     "name": "stdout",
     "output_type": "stream",
     "text": [
      "2019-12-09 13:26:31,632 INFO sqlalchemy.engine.base.Engine (1,)\n"
     ]
    },
    {
     "name": "stdout",
     "output_type": "stream",
     "text": [
      "2019-12-09 13:26:31,632 INFO sqlalchemy.engine.base.Engine SELECT classes.id AS classes_id, classes.name AS classes_name \nFROM classes, registrations \nWHERE ? = registrations.student_id AND classes.id = registrations.classes_id\n"
     ]
    },
    {
     "name": "stdout",
     "output_type": "stream",
     "text": [
      "2019-12-09 13:26:31,636 INFO sqlalchemy.engine.base.Engine (1,)\n"
     ]
    },
    {
     "data": {
      "text/plain": [
       "[<__main__.Class at 0x199e25a0ac8>, <__main__.Class at 0x199e25a0a88>]"
      ]
     },
     "execution_count": 4,
     "metadata": {},
     "output_type": "execute_result"
    }
   ],
   "source": [
    "stu1.classes.all()"
   ]
  },
  {
   "cell_type": "code",
   "execution_count": 5,
   "metadata": {},
   "outputs": [
    {
     "name": "stdout",
     "output_type": "stream",
     "text": [
      "2019-12-09 13:26:32,798 INFO sqlalchemy.engine.base.Engine SELECT students.id AS students_id, students.name AS students_name \nFROM students, registrations \nWHERE ? = registrations.classes_id AND students.id = registrations.student_id\n"
     ]
    },
    {
     "name": "stdout",
     "output_type": "stream",
     "text": [
      "2019-12-09 13:26:32,802 INFO sqlalchemy.engine.base.Engine (1,)\n"
     ]
    },
    {
     "data": {
      "text/plain": [
       "[<__main__.Student at 0x199e25a0c48>]"
      ]
     },
     "execution_count": 5,
     "metadata": {},
     "output_type": "execute_result"
    }
   ],
   "source": [
    "class1.students.all()"
   ]
  },
  {
   "cell_type": "code",
   "execution_count": 6,
   "metadata": {},
   "outputs": [
    {
     "name": "stdout",
     "output_type": "stream",
     "text": [
      "2019-12-09 13:26:33,798 INFO sqlalchemy.engine.base.Engine SELECT students.id AS students_id, students.name AS students_name \nFROM students, registrations \nWHERE ? = registrations.classes_id AND students.id = registrations.student_id\n"
     ]
    },
    {
     "name": "stdout",
     "output_type": "stream",
     "text": [
      "2019-12-09 13:26:33,798 INFO sqlalchemy.engine.base.Engine (2,)\n"
     ]
    },
    {
     "data": {
      "text/plain": [
       "[<__main__.Student at 0x199e25a0c48>, <__main__.Student at 0x199e2ca4a88>]"
      ]
     },
     "execution_count": 6,
     "metadata": {},
     "output_type": "execute_result"
    }
   ],
   "source": [
    "class2.students.all()"
   ]
  },
  {
   "cell_type": "code",
   "execution_count": 8,
   "metadata": {},
   "outputs": [
    {
     "name": "stdout",
     "output_type": "stream",
     "text": [
      "2019-12-09 13:30:41,994 INFO sqlalchemy.engine.base.Engine SELECT classes.id AS classes_id, classes.name AS classes_name \nFROM classes, registrations \nWHERE ? = registrations.student_id AND classes.id = registrations.classes_id\n"
     ]
    },
    {
     "name": "stdout",
     "output_type": "stream",
     "text": [
      "2019-12-09 13:30:41,994 INFO sqlalchemy.engine.base.Engine (1,)\n"
     ]
    }
   ],
   "source": [
    "stu1.classes.remove(stu1.classes.all()[0])"
   ]
  },
  {
   "cell_type": "code",
   "execution_count": 9,
   "metadata": {},
   "outputs": [
    {
     "name": "stdout",
     "output_type": "stream",
     "text": [
      "2019-12-09 13:31:30,578 INFO sqlalchemy.engine.base.Engine DELETE FROM registrations WHERE registrations.student_id = ? AND registrations.classes_id = ?\n"
     ]
    },
    {
     "name": "stdout",
     "output_type": "stream",
     "text": [
      "2019-12-09 13:31:30,578 INFO sqlalchemy.engine.base.Engine (1, 1)\n"
     ]
    },
    {
     "name": "stdout",
     "output_type": "stream",
     "text": [
      "2019-12-09 13:31:30,578 INFO sqlalchemy.engine.base.Engine COMMIT\n"
     ]
    }
   ],
   "source": [
    "session.commit()"
   ]
  },
  {
   "cell_type": "code",
   "execution_count": 10,
   "metadata": {},
   "outputs": [
    {
     "name": "stdout",
     "output_type": "stream",
     "text": [
      "2019-12-09 13:32:02,757 INFO sqlalchemy.engine.base.Engine BEGIN (implicit)\n"
     ]
    },
    {
     "name": "stdout",
     "output_type": "stream",
     "text": [
      "2019-12-09 13:32:02,757 INFO sqlalchemy.engine.base.Engine SELECT students.id AS students_id, students.name AS students_name \nFROM students \nWHERE students.id = ?\n"
     ]
    },
    {
     "name": "stdout",
     "output_type": "stream",
     "text": [
      "2019-12-09 13:32:02,757 INFO sqlalchemy.engine.base.Engine (1,)\n"
     ]
    },
    {
     "name": "stdout",
     "output_type": "stream",
     "text": [
      "2019-12-09 13:32:02,767 INFO sqlalchemy.engine.base.Engine SELECT classes.id AS classes_id, classes.name AS classes_name \nFROM classes, registrations \nWHERE ? = registrations.student_id AND classes.id = registrations.classes_id\n"
     ]
    },
    {
     "name": "stdout",
     "output_type": "stream",
     "text": [
      "2019-12-09 13:32:02,767 INFO sqlalchemy.engine.base.Engine (1,)\n"
     ]
    },
    {
     "data": {
      "text/plain": [
       "[<__main__.Class at 0x199e25a0a88>]"
      ]
     },
     "execution_count": 10,
     "metadata": {},
     "output_type": "execute_result"
    }
   ],
   "source": [
    "stu1.classes.all()"
   ]
  },
  {
   "cell_type": "code",
   "execution_count": 12,
   "metadata": {},
   "outputs": [],
   "source": [
    "from sqlalchemy import DateTime, Table, Column, String, \\\n",
    "    create_engine, Integer, ForeignKey\n",
    "from sqlalchemy.orm import sessionmaker, relationship\n",
    "from sqlalchemy.ext.declarative import declarative_base\n",
    "from datetime import datetime\n",
    " \n",
    "engine = create_engine('sqlite:///demo.sqlite')\n",
    "Base = declarative_base(engine)\n",
    "session = sessionmaker(bind=engine)()\n",
    " \n",
    "post_tag = \\\n",
    "    Table('post_tag', Base.metadata, \n",
    "          Column('id', Integer, primary_key=True, autoincrement=True),\n",
    "          Column('post_id', Integer, ForeignKey('posts.id')),\n",
    "          Column('tag_id', Integer, ForeignKey('tags.id')))\n",
    " \n",
    " \n",
    "class Post(Base):\n",
    "    __tablename__ = 'posts'\n",
    "    id = Column(Integer, primary_key=True, autoincrement=True)\n",
    "    title = Column(String, nullable=False)\n",
    "    content = Column(String, nullable=False)\n",
    "    created_on = Column(DateTime, default=datetime.now)\n",
    "    updated_on = Column(DateTime, default=datetime.now, onupdate=datetime.now)\n",
    "    tags = relationship('Tag', backref='posts', secondary=post_tag)\n",
    " \n",
    "    def __repr__(self):\n",
    "        return '<Post: {} {} letters>'.format(self.title, len(self.content))\n",
    " \n",
    " \n",
    "class Tag(Base):\n",
    "    __tablename__ = 'tags'\n",
    "    id = Column(Integer, primary_key=True, autoincrement=True)\n",
    "    name = Column(String, nullable=False)\n",
    " \n",
    "    def __repr__(self):\n",
    "        return '<Tag: {}>'.format(self.name)   "
   ]
  },
  {
   "cell_type": "code",
   "execution_count": 13,
   "metadata": {},
   "outputs": [],
   "source": [
    "Base.metadata.drop_all()\n",
    "Base.metadata.create_all()"
   ]
  },
  {
   "cell_type": "code",
   "execution_count": 15,
   "metadata": {},
   "outputs": [],
   "source": [
    "p1 = Post(title='hello', content='world')\n",
    "p2 = Post(title='football', content='world cup')\n",
    "\n",
    "t1 = Tag(name='Tech')\n",
    "t2 = Tag(name='Funny')\n",
    "t3 = Tag(name='News')\n",
    "\n",
    "p1.tags.append(t1)\n",
    "p1.tags.append(t2)\n",
    "p1.tags.append(t3)\n",
    "p2.tags.append(t2)\n",
    "p2.tags.append(t3)\n",
    "\n",
    "session.add(p1)\n",
    "session.add(p2)\n",
    "session.commit()"
   ]
  },
  {
   "cell_type": "code",
   "execution_count": 16,
   "metadata": {},
   "outputs": [
    {
     "name": "stdout",
     "output_type": "stream",
     "text": [
      "<Post: hello 5 letters>: [<Tag: Tech>, <Tag: Funny>, <Tag: News>]\n<Post: football 9 letters>: [<Tag: Funny>, <Tag: News>]\n"
     ]
    }
   ],
   "source": [
    "bs = session.query(Post).all()\n",
    "for b in bs:\n",
    "    print(b, end=': ')\n",
    "    print(b.tags)"
   ]
  },
  {
   "cell_type": "code",
   "execution_count": 17,
   "metadata": {},
   "outputs": [
    {
     "name": "stdout",
     "output_type": "stream",
     "text": [
      "<Tag: Tech>: [<Post: hello 5 letters>]\n<Tag: Funny>: [<Post: hello 5 letters>, <Post: football 9 letters>]\n<Tag: News>: [<Post: hello 5 letters>, <Post: football 9 letters>]\n"
     ]
    }
   ],
   "source": [
    "bs2 = session.query(Tag).all()\n",
    "for b in bs2:\n",
    "    print(b, end=': ')\n",
    "    print(b.posts)"
   ]
  },
  {
   "cell_type": "code",
   "execution_count": null,
   "metadata": {},
   "outputs": [],
   "source": [
    ""
   ]
  }
 ],
 "metadata": {
  "kernelspec": {
   "display_name": "Python 2",
   "language": "python",
   "name": "python2"
  },
  "language_info": {
   "codemirror_mode": {
    "name": "ipython",
    "version": 2
   },
   "file_extension": ".py",
   "mimetype": "text/x-python",
   "name": "python",
   "nbconvert_exporter": "python",
   "pygments_lexer": "ipython2",
   "version": "2.7.6"
  }
 },
 "nbformat": 4,
 "nbformat_minor": 0
}
