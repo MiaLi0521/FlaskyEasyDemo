{
 "cells": [
  {
   "cell_type": "code",
   "execution_count": null,
   "metadata": {
    "collapsed": true
   },
   "outputs": [
    {
     "name": "stdout",
     "output_type": "stream",
     "text": [
      "I SUPPORT THE HONG KONG POLICE, YOU CAN BEAT ME.\nI SUPPORT THE HONG KONG POLICE, YOU CAN BEAT ME.\n"
     ]
    }
   ],
   "source": [
    "def shout(content=\"I support the Hong Kong police, you can beat me.\"):\n",
    "    return content.upper()\n",
    "\n",
    "\n",
    "print(shout())\n",
    "statement = shout\n",
    "print(statement())\n"
   ]
  },
  {
   "cell_type": "code",
   "execution_count": 19,
   "metadata": {},
   "outputs": [
    {
     "name": "stdout",
     "output_type": "stream",
     "text": [
      "name 'shout' is not defined\nI SUPPORT THE HONG KONG POLICE, YOU CAN BEAT ME.\n"
     ]
    }
   ],
   "source": [
    "del shout\n",
    "try:\n",
    "    print(shout())\n",
    "except NameError as e:\n",
    "    print(e)\n",
    "print(statement())\n"
   ]
  },
  {
   "cell_type": "code",
   "execution_count": 20,
   "metadata": {},
   "outputs": [
    {
     "name": "stdout",
     "output_type": "stream",
     "text": [
      "YES!\nname 'whisper' is not defined\n"
     ]
    }
   ],
   "source": [
    "def talk():\n",
    "    def whisper(word=\"yes\"):\n",
    "        return word.upper()+\"!\"\n",
    "    print(whisper())\n",
    "    \n",
    "\n",
    "talk()\n",
    "try:\n",
    "    print(whisper())\n",
    "except NameError as e:\n",
    "    print(e)\n"
   ]
  },
  {
   "cell_type": "code",
   "execution_count": 21,
   "metadata": {},
   "outputs": [
    {
     "name": "stdout",
     "output_type": "stream",
     "text": [
      "YES!\n"
     ]
    }
   ],
   "source": [
    "def talk():\n",
    "    def inner_fun(word=\"yes\"):\n",
    "        return word.upper()+\"!\"\n",
    "    return inner_fun\n",
    "\n",
    "\n",
    "whisper = talk()\n",
    "print(whisper())\n"
   ]
  },
  {
   "cell_type": "code",
   "execution_count": 24,
   "metadata": {},
   "outputs": [
    {
     "name": "stdout",
     "output_type": "stream",
     "text": [
      "Do something before, then call the function\nI SUPPORT THE HONG KONG POLICE, YOU CAN BEAT ME.\n"
     ]
    }
   ],
   "source": [
    "def do_something_before(func):\n",
    "    print(\"Do something before, then call the function\")\n",
    "    print(func())\n",
    "\n",
    "\n",
    "do_something_before(statement)\n"
   ]
  },
  {
   "cell_type": "code",
   "execution_count": 26,
   "metadata": {},
   "outputs": [
    {
     "name": "stdout",
     "output_type": "stream",
     "text": [
      "Before the function runs\nI SUPPORT THE HONG KONG POLICE, YOU CAN BEAT ME.\nAfter the function runs\n"
     ]
    }
   ],
   "source": [
    "def my_decorator(func):\n",
    "    # 定义一个函数，对原始函数进行包装，以达到在原始函数之前或之后执行代码的目的\n",
    "    def wrapper():\n",
    "        print(\"Before the function runs\")\n",
    "        print(func())\n",
    "        print(\"After the function runs\")\n",
    "    return wrapper\n",
    "\n",
    "\n",
    "func_wrapper = my_decorator(statement)\n",
    "func_wrapper()\n"
   ]
  },
  {
   "cell_type": "code",
   "execution_count": 27,
   "metadata": {},
   "outputs": [
    {
     "name": "stdout",
     "output_type": "stream",
     "text": [
      "Before the function runs\nI SUPPORT THE HONG KONG POLICE, YOU CAN BEAT ME.\nAfter the function runs\n"
     ]
    }
   ],
   "source": [
    "statement = my_decorator(statement)\n",
    "statement()\n"
   ]
  },
  {
   "cell_type": "code",
   "execution_count": 29,
   "metadata": {},
   "outputs": [
    {
     "name": "stdout",
     "output_type": "stream",
     "text": [
      "Before the function runs\nI SUPPORT THE HONG KONG POLICE, YOU CAN BEAT ME.\nAfter the function runs\n"
     ]
    }
   ],
   "source": [
    "@my_decorator\n",
    "def statement():\n",
    "    return \"I support the Hong Kong police, you can beat me.\".upper()\n",
    "\n",
    "\n",
    "statement()\n"
   ]
  },
  {
   "cell_type": "code",
   "execution_count": 32,
   "metadata": {},
   "outputs": [
    {
     "name": "stdout",
     "output_type": "stream",
     "text": [
      "<b><i>I SUPPORT THE HONG KONG POLICE, YOU CAN BEAT ME.</i></b>\n"
     ]
    }
   ],
   "source": [
    "def make_bold(func):\n",
    "    \"\"\"bold装饰器\"\"\"\n",
    "    def wrapper():\n",
    "        return \"<b>\" + func() + \"</b>\"\n",
    "    return wrapper\n",
    "\n",
    "\n",
    "def make_italic(func):\n",
    "    \"\"\"italic装饰器\"\"\"\n",
    "    def wrapper():\n",
    "        return \"<i>\" + func() + \"</i>\"\n",
    "    return wrapper\n",
    "\n",
    "\n",
    "@make_bold\n",
    "@make_italic\n",
    "def statement():\n",
    "    return \"I support the Hong Kong police, you can beat me.\".upper()\n",
    "\n",
    "\n",
    "print(statement())\n"
   ]
  },
  {
   "cell_type": "code",
   "execution_count": 35,
   "metadata": {},
   "outputs": [
    {
     "name": "stdout",
     "output_type": "stream",
     "text": [
      "I got args, look:Li,Mia\nMy name is MiaLi\n"
     ]
    }
   ],
   "source": [
    "def decorator_passing_arguments(func):\n",
    "    def wrapper_with_args(arg1, arg2):\n",
    "        print(\"I got args, look:{},{}\".format(arg1, arg2))\n",
    "        func(arg1, arg2)\n",
    "    return wrapper_with_args\n",
    "\n",
    "\n",
    "@decorator_passing_arguments\n",
    "def print_full_name(first, last):\n",
    "    print(\"My name is {}{}\".format(last, first))\n",
    "    \n",
    "\n",
    "print_full_name(\"Li\", \"Mia\")\n"
   ]
  },
  {
   "cell_type": "code",
   "execution_count": 38,
   "metadata": {},
   "outputs": [
    {
     "name": "stdout",
     "output_type": "stream",
     "text": [
      "I am 15, what do you think?\n"
     ]
    }
   ],
   "source": [
    "def method_friendly_decorator(func):\n",
    "    def wrapper(self, lie):\n",
    "        lie = lie - 3\n",
    "        return func(self, lie)\n",
    "    return wrapper\n",
    "\n",
    "\n",
    "class MiaLi:\n",
    "    def __init__(self):\n",
    "        self.age = 21\n",
    "        \n",
    "    @method_friendly_decorator\n",
    "    def print_age(self, lie):\n",
    "        print(\"I am {}, what do you think?\".format(self.age + lie))\n",
    "        \n",
    "\n",
    "person = MiaLi()\n",
    "person.print_age(-3)\n"
   ]
  },
  {
   "cell_type": "code",
   "execution_count": 39,
   "metadata": {},
   "outputs": [
    {
     "name": "stdout",
     "output_type": "stream",
     "text": [
      "My args are as follows:() {}\nPython is cool,no args is here\n"
     ]
    }
   ],
   "source": [
    "def decorator(func):\n",
    "    def wrapper(*args, **kwargs):\n",
    "        print(\"My args are as follows\", end=\":\")\n",
    "        print(args, kwargs)\n",
    "        func(*args, **kwargs)\n",
    "    return wrapper\n",
    "\n",
    "\n",
    "@decorator\n",
    "def func_with_no_args():\n",
    "    print(\"Python is cool,no args is here\")\n",
    "    \n",
    "\n",
    "func_with_no_args()\n"
   ]
  },
  {
   "cell_type": "code",
   "execution_count": 41,
   "metadata": {},
   "outputs": [
    {
     "name": "stdout",
     "output_type": "stream",
     "text": [
      "My args are as follows:('Hong Kang', 'Macau', 'Taiwan') {}\na=Hong Kang, b=Macau, c=Taiwan\n"
     ]
    }
   ],
   "source": [
    "@decorator\n",
    "def func_with_args(a, b, c):\n",
    "    print(\"a={}, b={}, c={}\".format(a, b, c))\n",
    "    \n",
    "\n",
    "func_with_args(\"Hong Kang\", \"Macau\", \"Taiwan\")\n"
   ]
  },
  {
   "cell_type": "code",
   "execution_count": 42,
   "metadata": {},
   "outputs": [
    {
     "name": "stdout",
     "output_type": "stream",
     "text": [
      "My args are as follows:('Hong Kang', 'Macau', 'Taiwan') {}\nHONG KANG,MACAU AND TAIWAN IS PART OF CHINA\n"
     ]
    }
   ],
   "source": [
    "@decorator\n",
    "def func_with_named_args(a, b, c, append=\"is part of china\"):\n",
    "    print(\"{},{} and {} {}\".format(a, b, c, append).upper())\n",
    "    \n",
    "\n",
    "func_with_named_args(\"Hong Kang\", \"Macau\", \"Taiwan\")\n"
   ]
  },
  {
   "cell_type": "code",
   "execution_count": 44,
   "metadata": {},
   "outputs": [
    {
     "name": "stdout",
     "output_type": "stream",
     "text": [
      "My args are as follows:(<__main__.MiaLi object at 0x000001FED9BD3448>, -3) {}\nI am 18, what do you think?\n"
     ]
    }
   ],
   "source": [
    "def method_friendly_decorator(func):\n",
    "    def wrapper(self, lie):\n",
    "        lie = lie - 3\n",
    "        return func(self, lie)\n",
    "    return wrapper\n",
    "\n",
    "\n",
    "class MiaLi:\n",
    "    def __init__(self):\n",
    "        self.age = 21\n",
    "        \n",
    "    @decorator\n",
    "    def print_age(self, lie):\n",
    "        print(\"I am {}, what do you think?\".format(self.age + lie))\n",
    "        \n",
    "\n",
    "person = MiaLi()\n",
    "person.print_age(-3)\n"
   ]
  },
  {
   "cell_type": "code",
   "execution_count": 50,
   "metadata": {},
   "outputs": [
    {
     "name": "stdout",
     "output_type": "stream",
     "text": [
      "== I make decorators!I am executed only once when you use me to create a decorator\n== As the decorator maker,I return a decorator.\n"
     ]
    }
   ],
   "source": [
    "def decorator_maker():\n",
    "    \"\"\"此函数用于创建装饰器\"\"\"\n",
    "    print(\"== I make decorators!I am executed only once when you use me to create a decorator\")\n",
    "    \n",
    "    def decorator(func):\n",
    "        print(\" ** I am a decorator!I am executed only when you decorate a function\")\n",
    "        \n",
    "        def wrapper(*args, **kwargs):\n",
    "            print(\"\"\"  * I am the wrapper around the decorated function.\n",
    "  * I am called when you call the decorated function.\n",
    "  * As the wrapper,I return thr RESULT of the decorated function.\"\"\")\n",
    "            return func(*args, **kwargs)\n",
    "        print(\" ** As the decorator,I return the wrapper function\")\n",
    "        return wrapper\n",
    "    print(\"== As the decorator maker,I return a decorator.\")\n",
    "    return decorator\n",
    "\n",
    "\n",
    "# 创建一个装饰器\n",
    "new_decorator = decorator_maker()\n"
   ]
  },
  {
   "cell_type": "code",
   "execution_count": 57,
   "metadata": {},
   "outputs": [
    {
     "name": "stdout",
     "output_type": "stream",
     "text": [
      " ** I am a decorator!I am executed only when you decorate a function\n ** As the decorator,I return the wrapper function\n"
     ]
    }
   ],
   "source": [
    "@new_decorator\n",
    "def statement():\n",
    "    print(\"I support the Hong Kong police, you can beat me.\".upper())\n",
    "    "
   ]
  },
  {
   "cell_type": "code",
   "execution_count": 56,
   "metadata": {},
   "outputs": [
    {
     "name": "stdout",
     "output_type": "stream",
     "text": [
      "  * I am the wrapper around the decorated function.\n  * I am called when you call the decorated function.\n  * As the wrapper,I return thr RESULT of the decorated function.\nI SUPPORT THE HONG KONG POLICE, YOU CAN BEAT ME.\n"
     ]
    }
   ],
   "source": [
    "statement()"
   ]
  },
  {
   "cell_type": "code",
   "execution_count": 58,
   "metadata": {},
   "outputs": [
    {
     "name": "stdout",
     "output_type": "stream",
     "text": [
      "== I make decorators!I am executed only once when you use me to create a decorator\n== As the decorator maker,I return a decorator.\n ** I am a decorator!I am executed only when you decorate a function\n ** As the decorator,I return the wrapper function\n"
     ]
    }
   ],
   "source": [
    "@decorator_maker()\n",
    "def statement():\n",
    "    \"I support the Hong Kong police, you can beat me.\".upper()"
   ]
  },
  {
   "cell_type": "code",
   "execution_count": 59,
   "metadata": {},
   "outputs": [
    {
     "name": "stdout",
     "output_type": "stream",
     "text": [
      "  * I am the wrapper around the decorated function.\n  * I am called when you call the decorated function.\n  * As the wrapper,I return thr RESULT of the decorated function.\n"
     ]
    }
   ],
   "source": [
    "statement()"
   ]
  },
  {
   "cell_type": "code",
   "execution_count": 61,
   "metadata": {},
   "outputs": [
    {
     "name": "stdout",
     "output_type": "stream",
     "text": [
      "== I make decorators!And I accept the args: A B\n ** I am the decorator!Somehow you passed me argus: A B\n"
     ]
    }
   ],
   "source": [
    "def decorator_maker_with_args(decorator_args1, decorator_args2):\n",
    "    print(\"== I make decorators!And I accept the args:\", decorator_args1, decorator_args2)\n",
    "    \n",
    "    def decorator(func):\n",
    "        print(\" ** I am the decorator!Somehow you passed me argus:\", decorator_args1, \n",
    "              decorator_args2)\n",
    "        \n",
    "        def wrapper(*args, **kwargs):\n",
    "            print(\"\"\"  * I am the wrapper around the decorated function.\n",
    "  * I can access all the variables:\n",
    "\\t-from the decorator:{} {}\n",
    "\\t-from the function call:{} {}\n",
    "  * Then I can pass them to the decorated function\"\"\"\n",
    "                  .format(decorator_args1, decorator_args2, args, kwargs))\n",
    "            return func(*args, **kwargs)\n",
    "        return wrapper\n",
    "    return decorator\n",
    "\n",
    "\n",
    "@decorator_maker_with_args(\"A\", \"B\")\n",
    "def print_args(arg1, arg2):\n",
    "    print(\"~ ~ {},{} ~ ~\".format(arg1, arg2))"
   ]
  },
  {
   "cell_type": "code",
   "execution_count": 63,
   "metadata": {},
   "outputs": [
    {
     "name": "stdout",
     "output_type": "stream",
     "text": [
      "  * I am the wrapper around the decorated function.\n  * I can access all the variables:\n\t-from the decorator:A B\n\t-from the function call:('C', 'D') {}\n  * Then I can pass them to the decorated function\n~ ~ C,D ~ ~\n"
     ]
    }
   ],
   "source": [
    "print_args(\"C\", \"D\")"
   ]
  },
  {
   "cell_type": "code",
   "execution_count": 64,
   "metadata": {},
   "outputs": [
    {
     "name": "stdout",
     "output_type": "stream",
     "text": [
      "  * I am the wrapper around the decorated function.\n  * I can access all the variables:\n\t-from the decorator:A B\n\t-from the function call:() {'arg1': 'C', 'arg2': 'D'}\n  * Then I can pass them to the decorated function\n~ ~ C,D ~ ~\n"
     ]
    }
   ],
   "source": [
    "print_args(arg1=\"C\", arg2=\"D\")"
   ]
  },
  {
   "cell_type": "code",
   "execution_count": 65,
   "metadata": {},
   "outputs": [
    {
     "name": "stdout",
     "output_type": "stream",
     "text": [
      "statement\nfunction statement's __doc__\n"
     ]
    }
   ],
   "source": [
    "def statement():\n",
    "    \"\"\"function statement's __doc__\"\"\"\n",
    "    print(\"I support the Hong Kong police, you can beat me.\".upper())\n",
    "    \n",
    "    \n",
    "print(statement.__name__)\n",
    "print(statement.__doc__)"
   ]
  },
  {
   "cell_type": "code",
   "execution_count": 67,
   "metadata": {},
   "outputs": [
    {
     "name": "stdout",
     "output_type": "stream",
     "text": [
      "== I make decorators!And I accept the args: __name__ __doc__\n ** I am the decorator!Somehow you passed me argus: __name__ __doc__\nwrapper\nNone\n"
     ]
    }
   ],
   "source": [
    "@decorator_maker_with_args(\"__name__\", \"__doc__\")\n",
    "def statement():\n",
    "    \"\"\"function statement's __doc__\"\"\"\n",
    "    print(\"I support the Hong Kong police, you can beat me.\".upper())\n",
    "    \n",
    "    \n",
    "print(statement.__name__)\n",
    "print(statement.__doc__)"
   ]
  },
  {
   "cell_type": "code",
   "execution_count": 68,
   "metadata": {},
   "outputs": [
    {
     "name": "stdout",
     "output_type": "stream",
     "text": [
      "== I make decorators!And I accept the args: A B\n ** I am the decorator!Somehow you passed me argus: A B\n"
     ]
    }
   ],
   "source": [
    "from functools import wraps\n",
    "\n",
    "\n",
    "def decorator_maker_with_args(decorator_args1, decorator_args2):\n",
    "    print(\"== I make decorators!And I accept the args:\", decorator_args1, decorator_args2)\n",
    "    \n",
    "    def decorator(func):\n",
    "        print(\" ** I am the decorator!Somehow you passed me argus:\", decorator_args1, \n",
    "              decorator_args2)\n",
    "        \n",
    "        @wraps(func)\n",
    "        def wrapper(*args, **kwargs):\n",
    "            print(\"\"\"  * I am the wrapper around the decorated function.\n",
    "  * I can access all the variables:\n",
    "\\t-from the decorator:{} {}\n",
    "\\t-from the function call:{} {}\n",
    "  * Then I can pass them to the decorated function\"\"\"\n",
    "                  .format(decorator_args1, decorator_args2, args, kwargs))\n",
    "            return func(*args, **kwargs)\n",
    "        return wrapper\n",
    "    return decorator\n",
    "\n",
    "\n",
    "@decorator_maker_with_args(\"A\", \"B\")\n",
    "def print_args(arg1, arg2):\n",
    "    print(\"~ ~ {},{} ~ ~\".format(arg1, arg2))"
   ]
  },
  {
   "cell_type": "code",
   "execution_count": 69,
   "metadata": {},
   "outputs": [
    {
     "name": "stdout",
     "output_type": "stream",
     "text": [
      "== I make decorators!And I accept the args: __name__ __doc__\n ** I am the decorator!Somehow you passed me argus: __name__ __doc__\nstatement\nfunction statement's __doc__\n"
     ]
    }
   ],
   "source": [
    "@decorator_maker_with_args(\"__name__\", \"__doc__\")\n",
    "def statement():\n",
    "    \"\"\"function statement's __doc__\"\"\"\n",
    "    print(\"I support the Hong Kong police, you can beat me.\".upper())\n",
    "    \n",
    "    \n",
    "print(statement.__name__)\n",
    "print(statement.__doc__)"
   ]
  },
  {
   "cell_type": "code",
   "execution_count": 77,
   "metadata": {},
   "outputs": [],
   "source": [
    "import time\n",
    "from functools import wraps\n",
    "\n",
    "\n",
    "def benchmark(func):\n",
    "    \n",
    "    @wraps(func)\n",
    "    def wrapper(*args, **kwargs):\n",
    "        t = time.process_time()\n",
    "        res = func(*args, **kwargs)\n",
    "        print(\"执行时间：\", func.__name__, time.process_time() - t)\n",
    "        return res\n",
    "    return wrapper\n",
    "\n",
    "\n",
    "def logging(func):\n",
    "    \n",
    "    @wraps(func)\n",
    "    def wrapper(*args, **kwargs):\n",
    "        res = func(*args, **kwargs)\n",
    "        print(\"运行日志：\", func.__name__, args, kwargs)\n",
    "        return res\n",
    "    return wrapper\n",
    "\n",
    "\n",
    "def counter(func):\n",
    "    count = 0\n",
    "    \n",
    "    @wraps(func)\n",
    "    def wrapper(*args, **kwargs):\n",
    "        res = func(*args, **kwargs)\n",
    "        nonlocal count\n",
    "        count += 1\n",
    "        print(\"执行次数：{} has been used：{}x\".format(func.__name__, count))\n",
    "        return res\n",
    "    return wrapper"
   ]
  },
  {
   "cell_type": "code",
   "execution_count": 81,
   "metadata": {},
   "outputs": [
    {
     "name": "stdout",
     "output_type": "stream",
     "text": [
      "执行时间： reverse_string 0.0\n运行日志： reverse_string ('蜜蜂酿蜂蜜',) {}\n执行次数：reverse_string has been used：1x\n蜜 蜂 酿 蜂 蜜 "
     ]
    }
   ],
   "source": [
    "@counter\n",
    "@logging\n",
    "@benchmark\n",
    "def reverse_string(string):\n",
    "    return reversed(string)\n",
    "\n",
    "\n",
    "for char in reverse_string(\"蜜蜂酿蜂蜜\"):\n",
    "    print(char, end=\" \")\n"
   ]
  },
  {
   "cell_type": "code",
   "execution_count": 82,
   "metadata": {},
   "outputs": [
    {
     "name": "stdout",
     "output_type": "stream",
     "text": [
      "执行时间： reverse_string 0.0\n运行日志： reverse_string ('火柴点柴火',) {}\n执行次数：reverse_string has been used：2x\n火 柴 点 柴 火 "
     ]
    }
   ],
   "source": [
    "for char in reverse_string(\"火柴点柴火\"):\n",
    "    print(char, end=\" \")"
   ]
  },
  {
   "cell_type": "code",
   "execution_count": 37,
   "metadata": {},
   "outputs": [],
   "source": []
  },
  {
   "cell_type": "code",
   "execution_count": 37,
   "metadata": {},
   "outputs": [],
   "source": []
  },
  {
   "cell_type": "code",
   "execution_count": 37,
   "metadata": {},
   "outputs": [],
   "source": []
  },
  {
   "cell_type": "code",
   "execution_count": 37,
   "metadata": {},
   "outputs": [],
   "source": []
  },
  {
   "cell_type": "code",
   "execution_count": 37,
   "metadata": {},
   "outputs": [],
   "source": []
  },
  {
   "cell_type": "code",
   "execution_count": 37,
   "metadata": {},
   "outputs": [],
   "source": []
  },
  {
   "cell_type": "code",
   "execution_count": 37,
   "metadata": {},
   "outputs": [],
   "source": []
  },
  {
   "cell_type": "code",
   "execution_count": 37,
   "metadata": {},
   "outputs": [],
   "source": []
  },
  {
   "cell_type": "code",
   "execution_count": 37,
   "metadata": {},
   "outputs": [],
   "source": []
  },
  {
   "cell_type": "code",
   "execution_count": 37,
   "metadata": {},
   "outputs": [],
   "source": []
  },
  {
   "cell_type": "code",
   "execution_count": 37,
   "metadata": {},
   "outputs": [],
   "source": []
  },
  {
   "cell_type": "code",
   "execution_count": 37,
   "metadata": {},
   "outputs": [],
   "source": []
  },
  {
   "cell_type": "code",
   "execution_count": 37,
   "metadata": {},
   "outputs": [],
   "source": []
  },
  {
   "cell_type": "code",
   "execution_count": null,
   "metadata": {},
   "outputs": [],
   "source": []
  }
 ],
 "metadata": {
  "kernelspec": {
   "display_name": "Python 2",
   "language": "python",
   "name": "python2"
  },
  "language_info": {
   "codemirror_mode": {
    "name": "ipython",
    "version": 2
   },
   "file_extension": ".py",
   "mimetype": "text/x-python",
   "name": "python",
   "nbconvert_exporter": "python",
   "pygments_lexer": "ipython2",
   "version": "2.7.6"
  }
 },
 "nbformat": 4,
 "nbformat_minor": 0
}
